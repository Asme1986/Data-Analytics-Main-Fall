{
 "cells": [
  {
   "cell_type": "markdown",
   "id": "6d4d3646",
   "metadata": {},
   "source": [
    "# Module 8: Exploring Data \n",
    "\n",
    "After importing data, you should take the time to review the data you are working with. This includes: determining the properties of the dataset, the number of rows and columns, the names of all the columns, and what information your dataset contains. "
   ]
  },
  {
   "cell_type": "code",
   "execution_count": 1,
   "id": "b35420a7",
   "metadata": {},
   "outputs": [],
   "source": [
    "## always start with importing the libraries you need! ## \n",
    "\n",
    "import pandas as pd\n",
    "\n",
    "## new library ##\n",
    "\n",
    "import numpy as np"
   ]
  },
  {
   "cell_type": "markdown",
   "id": "1034c125",
   "metadata": {},
   "source": [
    "## Importing Excel Data"
   ]
  },
  {
   "cell_type": "code",
   "execution_count": 2,
   "id": "146ffccd",
   "metadata": {},
   "outputs": [
    {
     "data": {
      "text/html": [
       "<div>\n",
       "<style scoped>\n",
       "    .dataframe tbody tr th:only-of-type {\n",
       "        vertical-align: middle;\n",
       "    }\n",
       "\n",
       "    .dataframe tbody tr th {\n",
       "        vertical-align: top;\n",
       "    }\n",
       "\n",
       "    .dataframe thead th {\n",
       "        text-align: right;\n",
       "    }\n",
       "</style>\n",
       "<table border=\"1\" class=\"dataframe\">\n",
       "  <thead>\n",
       "    <tr style=\"text-align: right;\">\n",
       "      <th></th>\n",
       "      <th>Fname</th>\n",
       "      <th>Lname</th>\n",
       "      <th>Position</th>\n",
       "      <th>Gender</th>\n",
       "      <th>Hours Worked</th>\n",
       "      <th>SalesTraining</th>\n",
       "      <th>Years Experience</th>\n",
       "      <th>Cars Sold</th>\n",
       "    </tr>\n",
       "  </thead>\n",
       "  <tbody>\n",
       "    <tr>\n",
       "      <th>0</th>\n",
       "      <td>Jackie</td>\n",
       "      <td>Jackson</td>\n",
       "      <td>Trainee</td>\n",
       "      <td>F</td>\n",
       "      <td>32</td>\n",
       "      <td>Y</td>\n",
       "      <td>1</td>\n",
       "      <td>3</td>\n",
       "    </tr>\n",
       "    <tr>\n",
       "      <th>1</th>\n",
       "      <td>Mary</td>\n",
       "      <td>Patterson</td>\n",
       "      <td>Trainee</td>\n",
       "      <td>F</td>\n",
       "      <td>43</td>\n",
       "      <td>N</td>\n",
       "      <td>1</td>\n",
       "      <td>6</td>\n",
       "    </tr>\n",
       "    <tr>\n",
       "      <th>2</th>\n",
       "      <td>Tanya</td>\n",
       "      <td>Adams</td>\n",
       "      <td>Trainee</td>\n",
       "      <td>F</td>\n",
       "      <td>28</td>\n",
       "      <td>Y</td>\n",
       "      <td>1</td>\n",
       "      <td>2</td>\n",
       "    </tr>\n",
       "    <tr>\n",
       "      <th>3</th>\n",
       "      <td>Tanya</td>\n",
       "      <td>Henderson</td>\n",
       "      <td>Trainee</td>\n",
       "      <td>F</td>\n",
       "      <td>24</td>\n",
       "      <td>Y</td>\n",
       "      <td>1</td>\n",
       "      <td>5</td>\n",
       "    </tr>\n",
       "    <tr>\n",
       "      <th>4</th>\n",
       "      <td>Walter</td>\n",
       "      <td>Franklin</td>\n",
       "      <td>Trainee</td>\n",
       "      <td>M</td>\n",
       "      <td>25</td>\n",
       "      <td>Y</td>\n",
       "      <td>1</td>\n",
       "      <td>4</td>\n",
       "    </tr>\n",
       "  </tbody>\n",
       "</table>\n",
       "</div>"
      ],
      "text/plain": [
       "    Fname      Lname Position Gender  Hours Worked SalesTraining  \\\n",
       "0  Jackie    Jackson  Trainee      F            32             Y   \n",
       "1    Mary  Patterson  Trainee      F            43             N   \n",
       "2   Tanya      Adams  Trainee      F            28             Y   \n",
       "3   Tanya  Henderson  Trainee      F            24             Y   \n",
       "4  Walter   Franklin  Trainee      M            25             Y   \n",
       "\n",
       "   Years Experience  Cars Sold  \n",
       "0                 1          3  \n",
       "1                 1          6  \n",
       "2                 1          2  \n",
       "3                 1          5  \n",
       "4                 1          4  "
      ]
     },
     "execution_count": 2,
     "metadata": {},
     "output_type": "execute_result"
    }
   ],
   "source": [
    "## similar process with slightly different code\n",
    "\n",
    "df = pd.read_excel(\"axisdata.xlsx\")\n",
    "\n",
    "df.head()"
   ]
  },
  {
   "cell_type": "markdown",
   "id": "3128cd98",
   "metadata": {},
   "source": [
    "## Types of Variables (Columns)\n",
    "    \n",
    "Categorical variables are comprised of category or label values; these variables place individuals into one of several groups. Examples:\n",
    "\n",
    "- Marital Status (married, single, divorced)\n",
    "- Eye Color (brown, blue, green)\n",
    "- Level of Education (elementary, high school, college)\n",
    "    \n",
    "Quantitative variables are comprised of numerical values and represent some kind of measurement. Examples:\n",
    "\n",
    "- Height\n",
    "- Age\n",
    "- Income"
   ]
  },
  {
   "cell_type": "code",
   "execution_count": 3,
   "id": "5c3008cd",
   "metadata": {},
   "outputs": [
    {
     "data": {
      "text/html": [
       "<div>\n",
       "<style scoped>\n",
       "    .dataframe tbody tr th:only-of-type {\n",
       "        vertical-align: middle;\n",
       "    }\n",
       "\n",
       "    .dataframe tbody tr th {\n",
       "        vertical-align: top;\n",
       "    }\n",
       "\n",
       "    .dataframe thead th {\n",
       "        text-align: right;\n",
       "    }\n",
       "</style>\n",
       "<table border=\"1\" class=\"dataframe\">\n",
       "  <thead>\n",
       "    <tr style=\"text-align: right;\">\n",
       "      <th></th>\n",
       "      <th>Fname</th>\n",
       "      <th>Lname</th>\n",
       "      <th>Position</th>\n",
       "      <th>Gender</th>\n",
       "      <th>Hours Worked</th>\n",
       "      <th>SalesTraining</th>\n",
       "      <th>Years Experience</th>\n",
       "      <th>Cars Sold</th>\n",
       "    </tr>\n",
       "  </thead>\n",
       "  <tbody>\n",
       "    <tr>\n",
       "      <th>0</th>\n",
       "      <td>Jackie</td>\n",
       "      <td>Jackson</td>\n",
       "      <td>Trainee</td>\n",
       "      <td>F</td>\n",
       "      <td>32</td>\n",
       "      <td>Y</td>\n",
       "      <td>1</td>\n",
       "      <td>3</td>\n",
       "    </tr>\n",
       "    <tr>\n",
       "      <th>1</th>\n",
       "      <td>Mary</td>\n",
       "      <td>Patterson</td>\n",
       "      <td>Trainee</td>\n",
       "      <td>F</td>\n",
       "      <td>43</td>\n",
       "      <td>N</td>\n",
       "      <td>1</td>\n",
       "      <td>6</td>\n",
       "    </tr>\n",
       "  </tbody>\n",
       "</table>\n",
       "</div>"
      ],
      "text/plain": [
       "    Fname      Lname Position Gender  Hours Worked SalesTraining  \\\n",
       "0  Jackie    Jackson  Trainee      F            32             Y   \n",
       "1    Mary  Patterson  Trainee      F            43             N   \n",
       "\n",
       "   Years Experience  Cars Sold  \n",
       "0                 1          3  \n",
       "1                 1          6  "
      ]
     },
     "execution_count": 3,
     "metadata": {},
     "output_type": "execute_result"
    }
   ],
   "source": [
    "df.head(2)\n",
    "\n",
    "## which variables are categorical and which are numeric?"
   ]
  },
  {
   "cell_type": "markdown",
   "id": "30ea350f",
   "metadata": {},
   "source": [
    "## Dataset Characteristics"
   ]
  },
  {
   "cell_type": "code",
   "execution_count": 4,
   "id": "9c9aa7d1",
   "metadata": {},
   "outputs": [
    {
     "data": {
      "text/plain": [
       "Index(['Fname', 'Lname', 'Position', 'Gender', 'Hours Worked', 'SalesTraining',\n",
       "       'Years Experience', 'Cars Sold'],\n",
       "      dtype='object')"
      ]
     },
     "execution_count": 4,
     "metadata": {},
     "output_type": "execute_result"
    }
   ],
   "source": [
    "## return a list of all dataset column names \n",
    "\n",
    "df.columns"
   ]
  },
  {
   "cell_type": "code",
   "execution_count": 5,
   "id": "55d5ca91",
   "metadata": {},
   "outputs": [
    {
     "data": {
      "text/plain": [
       "Fname               object\n",
       "Lname               object\n",
       "Position            object\n",
       "Gender              object\n",
       "Hours Worked         int64\n",
       "SalesTraining       object\n",
       "Years Experience     int64\n",
       "Cars Sold            int64\n",
       "dtype: object"
      ]
     },
     "execution_count": 5,
     "metadata": {},
     "output_type": "execute_result"
    }
   ],
   "source": [
    "## return a list of all column names and the data type of each column\n",
    "\n",
    "df.dtypes"
   ]
  },
  {
   "cell_type": "code",
   "execution_count": 6,
   "id": "44621e4a",
   "metadata": {},
   "outputs": [
    {
     "data": {
      "text/plain": [
       "(999, 8)"
      ]
     },
     "execution_count": 6,
     "metadata": {},
     "output_type": "execute_result"
    }
   ],
   "source": [
    "## return the number of columns and rows in the dataset\n",
    "\n",
    "df.shape"
   ]
  },
  {
   "cell_type": "code",
   "execution_count": 7,
   "id": "49f890cb",
   "metadata": {},
   "outputs": [
    {
     "data": {
      "text/html": [
       "<div>\n",
       "<style scoped>\n",
       "    .dataframe tbody tr th:only-of-type {\n",
       "        vertical-align: middle;\n",
       "    }\n",
       "\n",
       "    .dataframe tbody tr th {\n",
       "        vertical-align: top;\n",
       "    }\n",
       "\n",
       "    .dataframe thead th {\n",
       "        text-align: right;\n",
       "    }\n",
       "</style>\n",
       "<table border=\"1\" class=\"dataframe\">\n",
       "  <thead>\n",
       "    <tr style=\"text-align: right;\">\n",
       "      <th></th>\n",
       "      <th>Fname</th>\n",
       "      <th>Lname</th>\n",
       "      <th>Position</th>\n",
       "      <th>Gender</th>\n",
       "      <th>Hours Worked</th>\n",
       "      <th>SalesTraining</th>\n",
       "      <th>Years Experience</th>\n",
       "      <th>Cars Sold</th>\n",
       "    </tr>\n",
       "  </thead>\n",
       "  <tbody>\n",
       "    <tr>\n",
       "      <th>0</th>\n",
       "      <td>Jackie</td>\n",
       "      <td>Jackson</td>\n",
       "      <td>Trainee</td>\n",
       "      <td>F</td>\n",
       "      <td>32</td>\n",
       "      <td>Y</td>\n",
       "      <td>1</td>\n",
       "      <td>3</td>\n",
       "    </tr>\n",
       "    <tr>\n",
       "      <th>1</th>\n",
       "      <td>Mary</td>\n",
       "      <td>Patterson</td>\n",
       "      <td>Trainee</td>\n",
       "      <td>F</td>\n",
       "      <td>43</td>\n",
       "      <td>N</td>\n",
       "      <td>1</td>\n",
       "      <td>6</td>\n",
       "    </tr>\n",
       "    <tr>\n",
       "      <th>2</th>\n",
       "      <td>Tanya</td>\n",
       "      <td>Adams</td>\n",
       "      <td>Trainee</td>\n",
       "      <td>F</td>\n",
       "      <td>28</td>\n",
       "      <td>Y</td>\n",
       "      <td>1</td>\n",
       "      <td>2</td>\n",
       "    </tr>\n",
       "    <tr>\n",
       "      <th>3</th>\n",
       "      <td>Tanya</td>\n",
       "      <td>Henderson</td>\n",
       "      <td>Trainee</td>\n",
       "      <td>F</td>\n",
       "      <td>24</td>\n",
       "      <td>Y</td>\n",
       "      <td>1</td>\n",
       "      <td>5</td>\n",
       "    </tr>\n",
       "    <tr>\n",
       "      <th>4</th>\n",
       "      <td>Walter</td>\n",
       "      <td>Franklin</td>\n",
       "      <td>Trainee</td>\n",
       "      <td>M</td>\n",
       "      <td>25</td>\n",
       "      <td>Y</td>\n",
       "      <td>1</td>\n",
       "      <td>4</td>\n",
       "    </tr>\n",
       "  </tbody>\n",
       "</table>\n",
       "</div>"
      ],
      "text/plain": [
       "    Fname      Lname Position Gender  Hours Worked SalesTraining  \\\n",
       "0  Jackie    Jackson  Trainee      F            32             Y   \n",
       "1    Mary  Patterson  Trainee      F            43             N   \n",
       "2   Tanya      Adams  Trainee      F            28             Y   \n",
       "3   Tanya  Henderson  Trainee      F            24             Y   \n",
       "4  Walter   Franklin  Trainee      M            25             Y   \n",
       "\n",
       "   Years Experience  Cars Sold  \n",
       "0                 1          3  \n",
       "1                 1          6  \n",
       "2                 1          2  \n",
       "3                 1          5  \n",
       "4                 1          4  "
      ]
     },
     "execution_count": 7,
     "metadata": {},
     "output_type": "execute_result"
    }
   ],
   "source": [
    "## preview the first 5 rows\n",
    "\n",
    "df.head()"
   ]
  },
  {
   "cell_type": "code",
   "execution_count": 8,
   "id": "f8ab51b8",
   "metadata": {},
   "outputs": [
    {
     "data": {
      "text/html": [
       "<div>\n",
       "<style scoped>\n",
       "    .dataframe tbody tr th:only-of-type {\n",
       "        vertical-align: middle;\n",
       "    }\n",
       "\n",
       "    .dataframe tbody tr th {\n",
       "        vertical-align: top;\n",
       "    }\n",
       "\n",
       "    .dataframe thead th {\n",
       "        text-align: right;\n",
       "    }\n",
       "</style>\n",
       "<table border=\"1\" class=\"dataframe\">\n",
       "  <thead>\n",
       "    <tr style=\"text-align: right;\">\n",
       "      <th></th>\n",
       "      <th>Fname</th>\n",
       "      <th>Lname</th>\n",
       "      <th>Position</th>\n",
       "      <th>Gender</th>\n",
       "      <th>Hours Worked</th>\n",
       "      <th>SalesTraining</th>\n",
       "      <th>Years Experience</th>\n",
       "      <th>Cars Sold</th>\n",
       "    </tr>\n",
       "  </thead>\n",
       "  <tbody>\n",
       "    <tr>\n",
       "      <th>994</th>\n",
       "      <td>Walter</td>\n",
       "      <td>Mulgrew</td>\n",
       "      <td>Senior Salesperson</td>\n",
       "      <td>M</td>\n",
       "      <td>40</td>\n",
       "      <td>Y</td>\n",
       "      <td>5</td>\n",
       "      <td>5</td>\n",
       "    </tr>\n",
       "    <tr>\n",
       "      <th>995</th>\n",
       "      <td>Veronica</td>\n",
       "      <td>Looner</td>\n",
       "      <td>Senior Salesperson</td>\n",
       "      <td>F</td>\n",
       "      <td>22</td>\n",
       "      <td>Y</td>\n",
       "      <td>5</td>\n",
       "      <td>4</td>\n",
       "    </tr>\n",
       "    <tr>\n",
       "      <th>996</th>\n",
       "      <td>Larry</td>\n",
       "      <td>Patterson</td>\n",
       "      <td>Senior Salesperson</td>\n",
       "      <td>M</td>\n",
       "      <td>29</td>\n",
       "      <td>N</td>\n",
       "      <td>5</td>\n",
       "      <td>3</td>\n",
       "    </tr>\n",
       "    <tr>\n",
       "      <th>997</th>\n",
       "      <td>Victor</td>\n",
       "      <td>Kane</td>\n",
       "      <td>Senior Salesperson</td>\n",
       "      <td>M</td>\n",
       "      <td>22</td>\n",
       "      <td>Y</td>\n",
       "      <td>5</td>\n",
       "      <td>4</td>\n",
       "    </tr>\n",
       "    <tr>\n",
       "      <th>998</th>\n",
       "      <td>Victoria</td>\n",
       "      <td>Rogers</td>\n",
       "      <td>Senior Salesperson</td>\n",
       "      <td>F</td>\n",
       "      <td>29</td>\n",
       "      <td>N</td>\n",
       "      <td>5</td>\n",
       "      <td>1</td>\n",
       "    </tr>\n",
       "  </tbody>\n",
       "</table>\n",
       "</div>"
      ],
      "text/plain": [
       "        Fname      Lname            Position Gender  Hours Worked  \\\n",
       "994    Walter    Mulgrew  Senior Salesperson      M            40   \n",
       "995  Veronica     Looner  Senior Salesperson      F            22   \n",
       "996     Larry  Patterson  Senior Salesperson      M            29   \n",
       "997    Victor       Kane  Senior Salesperson      M            22   \n",
       "998  Victoria     Rogers  Senior Salesperson      F            29   \n",
       "\n",
       "    SalesTraining  Years Experience  Cars Sold  \n",
       "994             Y                 5          5  \n",
       "995             Y                 5          4  \n",
       "996             N                 5          3  \n",
       "997             Y                 5          4  \n",
       "998             N                 5          1  "
      ]
     },
     "execution_count": 8,
     "metadata": {},
     "output_type": "execute_result"
    }
   ],
   "source": [
    "## preview the last 5 rows\n",
    "\n",
    "df.tail()"
   ]
  },
  {
   "cell_type": "code",
   "execution_count": 9,
   "id": "571c9506",
   "metadata": {},
   "outputs": [
    {
     "name": "stdout",
     "output_type": "stream",
     "text": [
      "<class 'pandas.core.frame.DataFrame'>\n",
      "RangeIndex: 999 entries, 0 to 998\n",
      "Data columns (total 8 columns):\n",
      " #   Column            Non-Null Count  Dtype \n",
      "---  ------            --------------  ----- \n",
      " 0   Fname             999 non-null    object\n",
      " 1   Lname             999 non-null    object\n",
      " 2   Position          999 non-null    object\n",
      " 3   Gender            999 non-null    object\n",
      " 4   Hours Worked      999 non-null    int64 \n",
      " 5   SalesTraining     999 non-null    object\n",
      " 6   Years Experience  999 non-null    int64 \n",
      " 7   Cars Sold         999 non-null    int64 \n",
      "dtypes: int64(3), object(5)\n",
      "memory usage: 62.6+ KB\n"
     ]
    }
   ],
   "source": [
    "## return a summary of the dataset\n",
    "\n",
    "df.info()"
   ]
  },
  {
   "cell_type": "code",
   "execution_count": 10,
   "id": "8d9d3598",
   "metadata": {},
   "outputs": [
    {
     "data": {
      "text/html": [
       "<div>\n",
       "<style scoped>\n",
       "    .dataframe tbody tr th:only-of-type {\n",
       "        vertical-align: middle;\n",
       "    }\n",
       "\n",
       "    .dataframe tbody tr th {\n",
       "        vertical-align: top;\n",
       "    }\n",
       "\n",
       "    .dataframe thead th {\n",
       "        text-align: right;\n",
       "    }\n",
       "</style>\n",
       "<table border=\"1\" class=\"dataframe\">\n",
       "  <thead>\n",
       "    <tr style=\"text-align: right;\">\n",
       "      <th></th>\n",
       "      <th>Hours Worked</th>\n",
       "      <th>Years Experience</th>\n",
       "      <th>Cars Sold</th>\n",
       "    </tr>\n",
       "  </thead>\n",
       "  <tbody>\n",
       "    <tr>\n",
       "      <th>count</th>\n",
       "      <td>999.000000</td>\n",
       "      <td>999.000000</td>\n",
       "      <td>999.000000</td>\n",
       "    </tr>\n",
       "    <tr>\n",
       "      <th>mean</th>\n",
       "      <td>33.727728</td>\n",
       "      <td>3.026026</td>\n",
       "      <td>3.922923</td>\n",
       "    </tr>\n",
       "    <tr>\n",
       "      <th>std</th>\n",
       "      <td>8.223454</td>\n",
       "      <td>1.394709</td>\n",
       "      <td>1.527000</td>\n",
       "    </tr>\n",
       "    <tr>\n",
       "      <th>min</th>\n",
       "      <td>20.000000</td>\n",
       "      <td>1.000000</td>\n",
       "      <td>1.000000</td>\n",
       "    </tr>\n",
       "    <tr>\n",
       "      <th>25%</th>\n",
       "      <td>27.000000</td>\n",
       "      <td>2.000000</td>\n",
       "      <td>3.000000</td>\n",
       "    </tr>\n",
       "    <tr>\n",
       "      <th>50%</th>\n",
       "      <td>34.000000</td>\n",
       "      <td>3.000000</td>\n",
       "      <td>4.000000</td>\n",
       "    </tr>\n",
       "    <tr>\n",
       "      <th>75%</th>\n",
       "      <td>41.000000</td>\n",
       "      <td>4.000000</td>\n",
       "      <td>5.000000</td>\n",
       "    </tr>\n",
       "    <tr>\n",
       "      <th>max</th>\n",
       "      <td>48.000000</td>\n",
       "      <td>5.000000</td>\n",
       "      <td>7.000000</td>\n",
       "    </tr>\n",
       "  </tbody>\n",
       "</table>\n",
       "</div>"
      ],
      "text/plain": [
       "       Hours Worked  Years Experience   Cars Sold\n",
       "count    999.000000        999.000000  999.000000\n",
       "mean      33.727728          3.026026    3.922923\n",
       "std        8.223454          1.394709    1.527000\n",
       "min       20.000000          1.000000    1.000000\n",
       "25%       27.000000          2.000000    3.000000\n",
       "50%       34.000000          3.000000    4.000000\n",
       "75%       41.000000          4.000000    5.000000\n",
       "max       48.000000          5.000000    7.000000"
      ]
     },
     "execution_count": 10,
     "metadata": {},
     "output_type": "execute_result"
    }
   ],
   "source": [
    "## return a summary of the numeric variables in dataset\n",
    "\n",
    "df.describe()"
   ]
  },
  {
   "cell_type": "markdown",
   "id": "16a33e0b",
   "metadata": {},
   "source": [
    "## { EXERCISE 1 }\n",
    "\n",
    "1. Import the pokemon.csv file. Nickname the file \"pk\" and preview the first 5 rows.\n",
    "2. Write the code to see the summary of the dataset.\n",
    "3. Write the code to see the descriptive summary for the numeric variables in the dataset. "
   ]
  },
  {
   "cell_type": "code",
   "execution_count": 11,
   "id": "d96119a5",
   "metadata": {
    "scrolled": true
   },
   "outputs": [
    {
     "data": {
      "text/html": [
       "<div>\n",
       "<style scoped>\n",
       "    .dataframe tbody tr th:only-of-type {\n",
       "        vertical-align: middle;\n",
       "    }\n",
       "\n",
       "    .dataframe tbody tr th {\n",
       "        vertical-align: top;\n",
       "    }\n",
       "\n",
       "    .dataframe thead th {\n",
       "        text-align: right;\n",
       "    }\n",
       "</style>\n",
       "<table border=\"1\" class=\"dataframe\">\n",
       "  <thead>\n",
       "    <tr style=\"text-align: right;\">\n",
       "      <th></th>\n",
       "      <th>Fname</th>\n",
       "      <th>Lname</th>\n",
       "      <th>Position</th>\n",
       "      <th>Gender</th>\n",
       "      <th>Hours Worked</th>\n",
       "      <th>SalesTraining</th>\n",
       "      <th>Years Experience</th>\n",
       "      <th>Cars Sold</th>\n",
       "    </tr>\n",
       "  </thead>\n",
       "  <tbody>\n",
       "    <tr>\n",
       "      <th>0</th>\n",
       "      <td>Jackie</td>\n",
       "      <td>Jackson</td>\n",
       "      <td>Trainee</td>\n",
       "      <td>F</td>\n",
       "      <td>32</td>\n",
       "      <td>Y</td>\n",
       "      <td>1</td>\n",
       "      <td>3</td>\n",
       "    </tr>\n",
       "    <tr>\n",
       "      <th>1</th>\n",
       "      <td>Mary</td>\n",
       "      <td>Patterson</td>\n",
       "      <td>Trainee</td>\n",
       "      <td>F</td>\n",
       "      <td>43</td>\n",
       "      <td>N</td>\n",
       "      <td>1</td>\n",
       "      <td>6</td>\n",
       "    </tr>\n",
       "    <tr>\n",
       "      <th>2</th>\n",
       "      <td>Tanya</td>\n",
       "      <td>Adams</td>\n",
       "      <td>Trainee</td>\n",
       "      <td>F</td>\n",
       "      <td>28</td>\n",
       "      <td>Y</td>\n",
       "      <td>1</td>\n",
       "      <td>2</td>\n",
       "    </tr>\n",
       "    <tr>\n",
       "      <th>3</th>\n",
       "      <td>Tanya</td>\n",
       "      <td>Henderson</td>\n",
       "      <td>Trainee</td>\n",
       "      <td>F</td>\n",
       "      <td>24</td>\n",
       "      <td>Y</td>\n",
       "      <td>1</td>\n",
       "      <td>5</td>\n",
       "    </tr>\n",
       "    <tr>\n",
       "      <th>4</th>\n",
       "      <td>Walter</td>\n",
       "      <td>Franklin</td>\n",
       "      <td>Trainee</td>\n",
       "      <td>M</td>\n",
       "      <td>25</td>\n",
       "      <td>Y</td>\n",
       "      <td>1</td>\n",
       "      <td>4</td>\n",
       "    </tr>\n",
       "  </tbody>\n",
       "</table>\n",
       "</div>"
      ],
      "text/plain": [
       "    Fname      Lname Position Gender  Hours Worked SalesTraining  \\\n",
       "0  Jackie    Jackson  Trainee      F            32             Y   \n",
       "1    Mary  Patterson  Trainee      F            43             N   \n",
       "2   Tanya      Adams  Trainee      F            28             Y   \n",
       "3   Tanya  Henderson  Trainee      F            24             Y   \n",
       "4  Walter   Franklin  Trainee      M            25             Y   \n",
       "\n",
       "   Years Experience  Cars Sold  \n",
       "0                 1          3  \n",
       "1                 1          6  \n",
       "2                 1          2  \n",
       "3                 1          5  \n",
       "4                 1          4  "
      ]
     },
     "execution_count": 11,
     "metadata": {},
     "output_type": "execute_result"
    }
   ],
   "source": [
    "PK= pd.read_csv(\"pokemon.csv\")\n",
    "\n",
    "df.head()"
   ]
  },
  {
   "cell_type": "code",
   "execution_count": 12,
   "id": "fef2626c",
   "metadata": {},
   "outputs": [
    {
     "data": {
      "text/html": [
       "<div>\n",
       "<style scoped>\n",
       "    .dataframe tbody tr th:only-of-type {\n",
       "        vertical-align: middle;\n",
       "    }\n",
       "\n",
       "    .dataframe tbody tr th {\n",
       "        vertical-align: top;\n",
       "    }\n",
       "\n",
       "    .dataframe thead th {\n",
       "        text-align: right;\n",
       "    }\n",
       "</style>\n",
       "<table border=\"1\" class=\"dataframe\">\n",
       "  <thead>\n",
       "    <tr style=\"text-align: right;\">\n",
       "      <th></th>\n",
       "      <th>Hours Worked</th>\n",
       "      <th>Years Experience</th>\n",
       "      <th>Cars Sold</th>\n",
       "    </tr>\n",
       "  </thead>\n",
       "  <tbody>\n",
       "    <tr>\n",
       "      <th>count</th>\n",
       "      <td>999.000000</td>\n",
       "      <td>999.000000</td>\n",
       "      <td>999.000000</td>\n",
       "    </tr>\n",
       "    <tr>\n",
       "      <th>mean</th>\n",
       "      <td>33.727728</td>\n",
       "      <td>3.026026</td>\n",
       "      <td>3.922923</td>\n",
       "    </tr>\n",
       "    <tr>\n",
       "      <th>std</th>\n",
       "      <td>8.223454</td>\n",
       "      <td>1.394709</td>\n",
       "      <td>1.527000</td>\n",
       "    </tr>\n",
       "    <tr>\n",
       "      <th>min</th>\n",
       "      <td>20.000000</td>\n",
       "      <td>1.000000</td>\n",
       "      <td>1.000000</td>\n",
       "    </tr>\n",
       "    <tr>\n",
       "      <th>25%</th>\n",
       "      <td>27.000000</td>\n",
       "      <td>2.000000</td>\n",
       "      <td>3.000000</td>\n",
       "    </tr>\n",
       "    <tr>\n",
       "      <th>50%</th>\n",
       "      <td>34.000000</td>\n",
       "      <td>3.000000</td>\n",
       "      <td>4.000000</td>\n",
       "    </tr>\n",
       "    <tr>\n",
       "      <th>75%</th>\n",
       "      <td>41.000000</td>\n",
       "      <td>4.000000</td>\n",
       "      <td>5.000000</td>\n",
       "    </tr>\n",
       "    <tr>\n",
       "      <th>max</th>\n",
       "      <td>48.000000</td>\n",
       "      <td>5.000000</td>\n",
       "      <td>7.000000</td>\n",
       "    </tr>\n",
       "  </tbody>\n",
       "</table>\n",
       "</div>"
      ],
      "text/plain": [
       "       Hours Worked  Years Experience   Cars Sold\n",
       "count    999.000000        999.000000  999.000000\n",
       "mean      33.727728          3.026026    3.922923\n",
       "std        8.223454          1.394709    1.527000\n",
       "min       20.000000          1.000000    1.000000\n",
       "25%       27.000000          2.000000    3.000000\n",
       "50%       34.000000          3.000000    4.000000\n",
       "75%       41.000000          4.000000    5.000000\n",
       "max       48.000000          5.000000    7.000000"
      ]
     },
     "execution_count": 12,
     "metadata": {},
     "output_type": "execute_result"
    }
   ],
   "source": [
    "df.describe()"
   ]
  },
  {
   "cell_type": "code",
   "execution_count": 13,
   "id": "0207cc95",
   "metadata": {},
   "outputs": [
    {
     "name": "stdout",
     "output_type": "stream",
     "text": [
      "<class 'pandas.core.frame.DataFrame'>\n",
      "RangeIndex: 999 entries, 0 to 998\n",
      "Data columns (total 8 columns):\n",
      " #   Column            Non-Null Count  Dtype \n",
      "---  ------            --------------  ----- \n",
      " 0   Fname             999 non-null    object\n",
      " 1   Lname             999 non-null    object\n",
      " 2   Position          999 non-null    object\n",
      " 3   Gender            999 non-null    object\n",
      " 4   Hours Worked      999 non-null    int64 \n",
      " 5   SalesTraining     999 non-null    object\n",
      " 6   Years Experience  999 non-null    int64 \n",
      " 7   Cars Sold         999 non-null    int64 \n",
      "dtypes: int64(3), object(5)\n",
      "memory usage: 62.6+ KB\n"
     ]
    }
   ],
   "source": [
    "df.info()"
   ]
  },
  {
   "cell_type": "markdown",
   "id": "f56feff0",
   "metadata": {},
   "source": [
    "## Simple Descriptive Statistics\n",
    "\n",
    "Descriptive statistics are used to describe a dataset. We will cover descriptive statistics in more detail later on, but there are a few simple statistics you can familiarize yourself with now. "
   ]
  },
  {
   "cell_type": "code",
   "execution_count": 14,
   "id": "6d249c91",
   "metadata": {},
   "outputs": [
    {
     "data": {
      "text/plain": [
       "Fname                 india\n",
       "Lname               Withers\n",
       "Position            Trainee\n",
       "Gender                    M\n",
       "Hours Worked             48\n",
       "SalesTraining             Y\n",
       "Years Experience          5\n",
       "Cars Sold                 7\n",
       "dtype: object"
      ]
     },
     "execution_count": 14,
     "metadata": {},
     "output_type": "execute_result"
    }
   ],
   "source": [
    "# shows the maximum value of all columns\n",
    "\n",
    "df.max()"
   ]
  },
  {
   "cell_type": "code",
   "execution_count": 15,
   "id": "4d523fee",
   "metadata": {},
   "outputs": [
    {
     "data": {
      "text/plain": [
       "48"
      ]
     },
     "execution_count": 15,
     "metadata": {},
     "output_type": "execute_result"
    }
   ],
   "source": [
    "# shows the maximum value of the Hours Worked column\n",
    "\n",
    "df[\"Hours Worked\"].max()"
   ]
  },
  {
   "cell_type": "code",
   "execution_count": 16,
   "id": "e87745ee",
   "metadata": {},
   "outputs": [
    {
     "data": {
      "text/plain": [
       "Fname                            Aaron\n",
       "Lname                            Adams\n",
       "Position            Junior Salesperson\n",
       "Gender                               F\n",
       "Hours Worked                        20\n",
       "SalesTraining                        N\n",
       "Years Experience                     1\n",
       "Cars Sold                            1\n",
       "dtype: object"
      ]
     },
     "execution_count": 16,
     "metadata": {},
     "output_type": "execute_result"
    }
   ],
   "source": [
    "# shows the maximum value of all columns\n",
    "\n",
    "df.min()"
   ]
  },
  {
   "cell_type": "code",
   "execution_count": 17,
   "id": "6a7722ab",
   "metadata": {},
   "outputs": [
    {
     "data": {
      "text/plain": [
       "20"
      ]
     },
     "execution_count": 17,
     "metadata": {},
     "output_type": "execute_result"
    }
   ],
   "source": [
    "# shows the minimum value of the Hours Worked column\n",
    "\n",
    "df[\"Hours Worked\"].min()"
   ]
  },
  {
   "cell_type": "code",
   "execution_count": 18,
   "id": "5ed809a3",
   "metadata": {},
   "outputs": [
    {
     "data": {
      "text/plain": [
       "33694"
      ]
     },
     "execution_count": 18,
     "metadata": {},
     "output_type": "execute_result"
    }
   ],
   "source": [
    "# shows the sum of all values in the Hours Worked column\n",
    "\n",
    "df[\"Hours Worked\"].sum()"
   ]
  },
  {
   "cell_type": "code",
   "execution_count": 19,
   "id": "435486db",
   "metadata": {
    "scrolled": true
   },
   "outputs": [
    {
     "data": {
      "text/plain": [
       "Hours Worked        33.727728\n",
       "Years Experience     3.026026\n",
       "Cars Sold            3.922923\n",
       "dtype: float64"
      ]
     },
     "execution_count": 19,
     "metadata": {},
     "output_type": "execute_result"
    }
   ],
   "source": [
    "# shows the average value of all columns\n",
    "\n",
    "df.mean()"
   ]
  },
  {
   "cell_type": "code",
   "execution_count": 20,
   "id": "646bb44f",
   "metadata": {},
   "outputs": [
    {
     "data": {
      "text/plain": [
       "33.727727727727725"
      ]
     },
     "execution_count": 20,
     "metadata": {},
     "output_type": "execute_result"
    }
   ],
   "source": [
    "# shows the average value of the Hours Worked column\n",
    "\n",
    "df[\"Hours Worked\"].mean()"
   ]
  },
  {
   "cell_type": "code",
   "execution_count": 21,
   "id": "812e0742",
   "metadata": {},
   "outputs": [
    {
     "data": {
      "text/plain": [
       "Hours Worked        34.0\n",
       "Years Experience     3.0\n",
       "Cars Sold            4.0\n",
       "dtype: float64"
      ]
     },
     "execution_count": 21,
     "metadata": {},
     "output_type": "execute_result"
    }
   ],
   "source": [
    "# shows the median value of all numeric columns\n",
    "# the median is the central value when all values are in order of least to greatest\n",
    "\n",
    "df.median()"
   ]
  },
  {
   "cell_type": "code",
   "execution_count": 22,
   "id": "a0646e1b",
   "metadata": {},
   "outputs": [
    {
     "data": {
      "text/plain": [
       "34.0"
      ]
     },
     "execution_count": 22,
     "metadata": {},
     "output_type": "execute_result"
    }
   ],
   "source": [
    "# shows the median value of the Hours Worked column\n",
    "\n",
    "df[\"Hours Worked\"].median()"
   ]
  },
  {
   "cell_type": "code",
   "execution_count": 23,
   "id": "3e544293",
   "metadata": {
    "scrolled": true
   },
   "outputs": [
    {
     "data": {
      "text/html": [
       "<div>\n",
       "<style scoped>\n",
       "    .dataframe tbody tr th:only-of-type {\n",
       "        vertical-align: middle;\n",
       "    }\n",
       "\n",
       "    .dataframe tbody tr th {\n",
       "        vertical-align: top;\n",
       "    }\n",
       "\n",
       "    .dataframe thead th {\n",
       "        text-align: right;\n",
       "    }\n",
       "</style>\n",
       "<table border=\"1\" class=\"dataframe\">\n",
       "  <thead>\n",
       "    <tr style=\"text-align: right;\">\n",
       "      <th></th>\n",
       "      <th>Fname</th>\n",
       "      <th>Lname</th>\n",
       "      <th>Position</th>\n",
       "      <th>Gender</th>\n",
       "      <th>Hours Worked</th>\n",
       "      <th>SalesTraining</th>\n",
       "      <th>Years Experience</th>\n",
       "      <th>Cars Sold</th>\n",
       "    </tr>\n",
       "  </thead>\n",
       "  <tbody>\n",
       "    <tr>\n",
       "      <th>0</th>\n",
       "      <td>Sam</td>\n",
       "      <td>Johnson</td>\n",
       "      <td>Junior Salesperson</td>\n",
       "      <td>M</td>\n",
       "      <td>38</td>\n",
       "      <td>Y</td>\n",
       "      <td>3</td>\n",
       "      <td>5</td>\n",
       "    </tr>\n",
       "  </tbody>\n",
       "</table>\n",
       "</div>"
      ],
      "text/plain": [
       "  Fname    Lname            Position Gender  Hours Worked SalesTraining  \\\n",
       "0   Sam  Johnson  Junior Salesperson      M            38             Y   \n",
       "\n",
       "   Years Experience  Cars Sold  \n",
       "0                 3          5  "
      ]
     },
     "execution_count": 23,
     "metadata": {},
     "output_type": "execute_result"
    }
   ],
   "source": [
    "# shows the mode of all numeric columns\n",
    "# # the mode is the value or values that occur the most frequency, \n",
    "# there can be no mode if all values occur the same number of times\n",
    "\n",
    "df.mode()"
   ]
  },
  {
   "cell_type": "code",
   "execution_count": 24,
   "id": "a86c1084",
   "metadata": {},
   "outputs": [
    {
     "data": {
      "text/plain": [
       "0    38\n",
       "dtype: int64"
      ]
     },
     "execution_count": 24,
     "metadata": {},
     "output_type": "execute_result"
    }
   ],
   "source": [
    "# shows the mode value of the Hours Worked column\n",
    "\n",
    "df[\"Hours Worked\"].mode()"
   ]
  },
  {
   "cell_type": "markdown",
   "id": "769982b4",
   "metadata": {},
   "source": [
    "## Value Frequencies\n",
    "\n",
    "Value counts/freq show how many individuals fall into a specific category. This is how we will explore our categorical variables. "
   ]
  },
  {
   "cell_type": "code",
   "execution_count": 25,
   "id": "d0895f50",
   "metadata": {
    "scrolled": true
   },
   "outputs": [
    {
     "data": {
      "text/plain": [
       "Junior Salesperson    419\n",
       "Senior Salesperson    397\n",
       "Trainee               183\n",
       "Name: Position, dtype: int64"
      ]
     },
     "execution_count": 25,
     "metadata": {},
     "output_type": "execute_result"
    }
   ],
   "source": [
    "df[\"Position\"].value_counts()"
   ]
  },
  {
   "cell_type": "code",
   "execution_count": 26,
   "id": "1ff4ea76",
   "metadata": {},
   "outputs": [
    {
     "data": {
      "text/plain": [
       "M    510\n",
       "F    489\n",
       "Name: Gender, dtype: int64"
      ]
     },
     "execution_count": 26,
     "metadata": {},
     "output_type": "execute_result"
    }
   ],
   "source": [
    "df[\"Gender\"].value_counts()"
   ]
  },
  {
   "cell_type": "code",
   "execution_count": 27,
   "id": "c6262c61",
   "metadata": {},
   "outputs": [
    {
     "data": {
      "text/plain": [
       "Y    586\n",
       "N    413\n",
       "Name: SalesTraining, dtype: int64"
      ]
     },
     "execution_count": 27,
     "metadata": {},
     "output_type": "execute_result"
    }
   ],
   "source": [
    "df[\"SalesTraining\"].value_counts()"
   ]
  },
  {
   "cell_type": "code",
   "execution_count": 28,
   "id": "9d6fb500",
   "metadata": {},
   "outputs": [
    {
     "data": {
      "text/plain": [
       "Y    0.586587\n",
       "N    0.413413\n",
       "Name: SalesTraining, dtype: float64"
      ]
     },
     "execution_count": 28,
     "metadata": {},
     "output_type": "execute_result"
    }
   ],
   "source": [
    "df[\"SalesTraining\"].value_counts(normalize = True)"
   ]
  },
  {
   "cell_type": "markdown",
   "id": "61da29cd",
   "metadata": {},
   "source": [
    "## { EXERCISE 2 }\n",
    "\n",
    "1. Using the \"pk\" dataset you previously imported, determine the following information for the DEFENSE column:\n",
    "    * Mean defense value\n",
    "    * Min defense value\n",
    "    * Max defense value\n",
    "    * Sum defense value\n",
    "    \n",
    "    \n",
    "2. Use the value counts function to determine how many pokemon fall into each of the following categories:\n",
    "    * Type 1\n",
    "    * Type 2\n",
    "    * Stage\n",
    "    * Legendary"
   ]
  },
  {
   "cell_type": "code",
   "execution_count": 29,
   "id": "6168a8bf",
   "metadata": {},
   "outputs": [
    {
     "ename": "NameError",
     "evalue": "name 'pk' is not defined",
     "output_type": "error",
     "traceback": [
      "\u001b[1;31m---------------------------------------------------------------------------\u001b[0m",
      "\u001b[1;31mNameError\u001b[0m                                 Traceback (most recent call last)",
      "\u001b[1;32m<ipython-input-29-da9fc8b7e911>\u001b[0m in \u001b[0;36m<module>\u001b[1;34m\u001b[0m\n\u001b[1;32m----> 1\u001b[1;33m \u001b[0mpk\u001b[0m\u001b[1;33m[\u001b[0m\u001b[1;34m\"Defense\"\u001b[0m\u001b[1;33m]\u001b[0m\u001b[1;33m.\u001b[0m\u001b[0mmean\u001b[0m\u001b[1;33m(\u001b[0m\u001b[1;33m)\u001b[0m\u001b[1;33m\u001b[0m\u001b[1;33m\u001b[0m\u001b[0m\n\u001b[0m\u001b[0;32m      2\u001b[0m \u001b[0mpk\u001b[0m\u001b[1;33m[\u001b[0m\u001b[1;34m\"Defense\"\u001b[0m\u001b[1;33m]\u001b[0m\u001b[1;33m.\u001b[0m\u001b[0mmin\u001b[0m\u001b[1;33m(\u001b[0m\u001b[1;33m)\u001b[0m\u001b[1;33m\u001b[0m\u001b[1;33m\u001b[0m\u001b[0m\n\u001b[0;32m      3\u001b[0m \u001b[0mpk\u001b[0m\u001b[1;33m[\u001b[0m\u001b[1;34m\"Defense\"\u001b[0m\u001b[1;33m]\u001b[0m\u001b[1;33m.\u001b[0m\u001b[0mmax\u001b[0m\u001b[1;33m(\u001b[0m\u001b[1;33m)\u001b[0m\u001b[1;33m\u001b[0m\u001b[1;33m\u001b[0m\u001b[0m\n\u001b[0;32m      4\u001b[0m \u001b[0mpk\u001b[0m\u001b[1;33m[\u001b[0m\u001b[1;34m\"Defense\"\u001b[0m\u001b[1;33m]\u001b[0m\u001b[1;33m.\u001b[0m\u001b[0msum\u001b[0m\u001b[1;33m(\u001b[0m\u001b[1;33m)\u001b[0m\u001b[1;33m\u001b[0m\u001b[1;33m\u001b[0m\u001b[0m\n\u001b[0;32m      5\u001b[0m \u001b[1;33m\u001b[0m\u001b[0m\n",
      "\u001b[1;31mNameError\u001b[0m: name 'pk' is not defined"
     ]
    }
   ],
   "source": [
    "pk[\"Defense\"].mean()\n",
    "pk[\"Defense\"].min()\n",
    "pk[\"Defense\"].max()\n",
    "pk[\"Defense\"].sum()\n",
    "\n"
   ]
  },
  {
   "cell_type": "code",
   "execution_count": null,
   "id": "8f0b3657",
   "metadata": {},
   "outputs": [],
   "source": [
    "pk[\"Type1\"].value_counts()\n",
    "pk[\"Type2\"].value_counts()\n",
    "pk[\"Stage\"].value_counts()\n",
    "pk[\"Legendary\"].value_counts()"
   ]
  },
  {
   "cell_type": "code",
   "execution_count": null,
   "id": "a38aed4f",
   "metadata": {},
   "outputs": [],
   "source": []
  },
  {
   "cell_type": "markdown",
   "id": "cb178afc",
   "metadata": {},
   "source": [
    "## Locating Data based on a Condition\n",
    "\n",
    "You can use the .loc method to locate specific data within your dataset based on a specific condition of the data. When exploring data based on a condition, keep in mind the conditional statements that we discussed previously:\n",
    "\n",
    "#### Conditional Symbols\n",
    "\n",
    "    == (equal to)\n",
    "    != (not equal to)\n",
    "    > (greater than)\n",
    "    < (less than)\n",
    "    >= (greater than or equal to)\n",
    "    <= (less than or equal to)\n",
    "    & (and)\n",
    "    | (or)"
   ]
  },
  {
   "cell_type": "code",
   "execution_count": null,
   "id": "632822fa",
   "metadata": {},
   "outputs": [],
   "source": [
    "## gender is Male\n",
    "\n",
    "df.loc[df[\"Gender\"] == \"M\"]"
   ]
  },
  {
   "cell_type": "code",
   "execution_count": null,
   "id": "76bc2cd5",
   "metadata": {
    "scrolled": true
   },
   "outputs": [],
   "source": [
    "## hours worked is 40\n",
    "\n",
    "df.loc[df[\"Hours Worked\"] == 40]"
   ]
  },
  {
   "cell_type": "code",
   "execution_count": null,
   "id": "895e112b",
   "metadata": {},
   "outputs": [],
   "source": [
    "## years experience is less than 2\n",
    "\n",
    "df.loc[df[\"Years Experience\"] < 2]"
   ]
  },
  {
   "cell_type": "code",
   "execution_count": null,
   "id": "a216a0f0",
   "metadata": {},
   "outputs": [],
   "source": [
    "## cars sold is greater than or equal to 3\n",
    "\n",
    "df.loc[df[\"Cars Sold\"] >= 3]"
   ]
  },
  {
   "cell_type": "code",
   "execution_count": null,
   "id": "e9c3c9ad",
   "metadata": {},
   "outputs": [],
   "source": [
    "## gender does not equal Male\n",
    "\n",
    "df.loc[df[\"Gender\"] != \"M\"]"
   ]
  },
  {
   "cell_type": "markdown",
   "id": "223feff0",
   "metadata": {},
   "source": [
    "## Locating Data Based on Multiple Conditions\n",
    "\n",
    "You can also have the option of choosing multiple conditions to sift through your data. When using multiple conditions, pay attention to how the conditions relate to each other (i.e. do you want to see data where both conditions are true? do you want to see data where at least one condition is true?) - this is where you will need to implement the <b>and (&)</b> and <b>or (|)</b> options. "
   ]
  },
  {
   "cell_type": "code",
   "execution_count": null,
   "id": "5fe0a8df",
   "metadata": {},
   "outputs": [],
   "source": [
    "## locate data where the individuals have no sales experience and sold over 4 cars\n",
    "\n",
    "df.loc[(df[\"SalesTraining\"] == \"N\") & (df[\"Cars Sold\"] > 4)]"
   ]
  },
  {
   "cell_type": "code",
   "execution_count": null,
   "id": "272140e9",
   "metadata": {},
   "outputs": [],
   "source": [
    "## locate the data where years of experience is 1 or hours worked is less than 25\n",
    "\n",
    "df.loc[(df[\"Years Experience\"] == 1) | (df[\"Hours Worked\"] < 25)]"
   ]
  },
  {
   "cell_type": "code",
   "execution_count": null,
   "id": "8966af30",
   "metadata": {
    "scrolled": true
   },
   "outputs": [],
   "source": [
    "## adding in a third condition\n",
    "\n",
    "df.loc[(df[\"SalesTraining\"] == \"N\") & (df[\"Cars Sold\"] > 4) & (df[\"Gender\"] == \"F\")]"
   ]
  },
  {
   "cell_type": "markdown",
   "id": "5ad05196",
   "metadata": {},
   "source": [
    "## { EXERCISE 3 }\n",
    "\n",
    "1. Using the \"pk\" dataset, locate the data where STAGE is 1.\n",
    "2. Using the \"pk\" dataset, locate the data where TYPE 1 is Fire.\n",
    "3. Using the \"pk\" dataset, locate the data where SPEED is greater than 65.\n",
    "4. Using the \"pk\" dataset, locate the data that meets the following conditions:\n",
    "    * ATTACK is less than 60\n",
    "    * STAGE is equal to 2\n",
    "5. Using the \"pk\" dataset, locate the data that meets the following conditions:\n",
    "    * TYPE 1 is equal to \"Bug\"\n",
    "    * SPEED is greater than or equal to 50"
   ]
  },
  {
   "cell_type": "code",
   "execution_count": null,
   "id": "1a09cf4a",
   "metadata": {},
   "outputs": [],
   "source": [
    "pk.loc[pk[\"STAGE\"] ==1]\n",
    "\n"
   ]
  },
  {
   "cell_type": "code",
   "execution_count": null,
   "id": "016fdebd",
   "metadata": {},
   "outputs": [],
   "source": [
    "pk.loc[pk[\"TYPE1\"]==\"Free\"]"
   ]
  },
  {
   "cell_type": "code",
   "execution_count": null,
   "id": "080ba6ff",
   "metadata": {},
   "outputs": [],
   "source": [
    "pk.loc[PK[\"SPEED\"] >65]"
   ]
  },
  {
   "cell_type": "code",
   "execution_count": null,
   "id": "fdb8e327",
   "metadata": {},
   "outputs": [],
   "source": [
    "pk.loc[(PK[\"ATTACK\"]<60 )& (PK[\"STAGE\"]== 2 )] "
   ]
  },
  {
   "cell_type": "code",
   "execution_count": null,
   "id": "5eacea82",
   "metadata": {},
   "outputs": [],
   "source": [
    "pk.loc[(PK[\"TYPE1\"]==\"Bug\" )& &(PK[\"SPEED\"]>50 )]"
   ]
  },
  {
   "cell_type": "markdown",
   "id": "8e12bbd6",
   "metadata": {},
   "source": [
    "## Crosstabs\n",
    "    \n",
    "To describe a single categorical variable, we use frequency tables (see above for value counts). To observe the relationship between two categorical variables, we use a cross-tabulation table (crosstab). With a crosstab, you can determine the frequency of observations across categories."
   ]
  },
  {
   "cell_type": "code",
   "execution_count": 30,
   "id": "0eec9c83",
   "metadata": {},
   "outputs": [
    {
     "data": {
      "text/html": [
       "<div>\n",
       "<style scoped>\n",
       "    .dataframe tbody tr th:only-of-type {\n",
       "        vertical-align: middle;\n",
       "    }\n",
       "\n",
       "    .dataframe tbody tr th {\n",
       "        vertical-align: top;\n",
       "    }\n",
       "\n",
       "    .dataframe thead th {\n",
       "        text-align: right;\n",
       "    }\n",
       "</style>\n",
       "<table border=\"1\" class=\"dataframe\">\n",
       "  <thead>\n",
       "    <tr style=\"text-align: right;\">\n",
       "      <th>Gender</th>\n",
       "      <th>F</th>\n",
       "      <th>M</th>\n",
       "    </tr>\n",
       "    <tr>\n",
       "      <th>Position</th>\n",
       "      <th></th>\n",
       "      <th></th>\n",
       "    </tr>\n",
       "  </thead>\n",
       "  <tbody>\n",
       "    <tr>\n",
       "      <th>Junior Salesperson</th>\n",
       "      <td>204</td>\n",
       "      <td>215</td>\n",
       "    </tr>\n",
       "    <tr>\n",
       "      <th>Senior Salesperson</th>\n",
       "      <td>200</td>\n",
       "      <td>197</td>\n",
       "    </tr>\n",
       "    <tr>\n",
       "      <th>Trainee</th>\n",
       "      <td>85</td>\n",
       "      <td>98</td>\n",
       "    </tr>\n",
       "  </tbody>\n",
       "</table>\n",
       "</div>"
      ],
      "text/plain": [
       "Gender                F    M\n",
       "Position                    \n",
       "Junior Salesperson  204  215\n",
       "Senior Salesperson  200  197\n",
       "Trainee              85   98"
      ]
     },
     "execution_count": 30,
     "metadata": {},
     "output_type": "execute_result"
    }
   ],
   "source": [
    "pd.crosstab(df[\"Position\"], df[\"Gender\"])"
   ]
  },
  {
   "cell_type": "code",
   "execution_count": 32,
   "id": "2ee3b0a7",
   "metadata": {},
   "outputs": [
    {
     "data": {
      "text/html": [
       "<div>\n",
       "<style scoped>\n",
       "    .dataframe tbody tr th:only-of-type {\n",
       "        vertical-align: middle;\n",
       "    }\n",
       "\n",
       "    .dataframe tbody tr th {\n",
       "        vertical-align: top;\n",
       "    }\n",
       "\n",
       "    .dataframe thead th {\n",
       "        text-align: right;\n",
       "    }\n",
       "</style>\n",
       "<table border=\"1\" class=\"dataframe\">\n",
       "  <thead>\n",
       "    <tr style=\"text-align: right;\">\n",
       "      <th>Gender</th>\n",
       "      <th>F</th>\n",
       "      <th>M</th>\n",
       "      <th>All</th>\n",
       "    </tr>\n",
       "    <tr>\n",
       "      <th>Position</th>\n",
       "      <th></th>\n",
       "      <th></th>\n",
       "      <th></th>\n",
       "    </tr>\n",
       "  </thead>\n",
       "  <tbody>\n",
       "    <tr>\n",
       "      <th>Junior Salesperson</th>\n",
       "      <td>204</td>\n",
       "      <td>215</td>\n",
       "      <td>419</td>\n",
       "    </tr>\n",
       "    <tr>\n",
       "      <th>Senior Salesperson</th>\n",
       "      <td>200</td>\n",
       "      <td>197</td>\n",
       "      <td>397</td>\n",
       "    </tr>\n",
       "    <tr>\n",
       "      <th>Trainee</th>\n",
       "      <td>85</td>\n",
       "      <td>98</td>\n",
       "      <td>183</td>\n",
       "    </tr>\n",
       "    <tr>\n",
       "      <th>All</th>\n",
       "      <td>489</td>\n",
       "      <td>510</td>\n",
       "      <td>999</td>\n",
       "    </tr>\n",
       "  </tbody>\n",
       "</table>\n",
       "</div>"
      ],
      "text/plain": [
       "Gender                F    M  All\n",
       "Position                         \n",
       "Junior Salesperson  204  215  419\n",
       "Senior Salesperson  200  197  397\n",
       "Trainee              85   98  183\n",
       "All                 489  510  999"
      ]
     },
     "execution_count": 32,
     "metadata": {},
     "output_type": "execute_result"
    }
   ],
   "source": [
    "pd.crosstab(df[\"Position\"], df[\"Gender\"], margins=True)"
   ]
  },
  {
   "cell_type": "markdown",
   "id": "1e07ae46",
   "metadata": {},
   "source": [
    "## Grouping Data\n",
    "\n",
    "Grouping data allows you to summarize data in different ways, this may give you insight on how some variables interact with others. Using the groupby function, you will select a numeric variable to be summarized and then a categorical variable to group the numeric variable.    \n",
    "    \n",
    "    df[numeric variable].groupby(categorical variable).summarizing element"
   ]
  },
  {
   "cell_type": "code",
   "execution_count": 33,
   "id": "3512d024",
   "metadata": {},
   "outputs": [
    {
     "data": {
      "text/plain": [
       "SalesTraining\n",
       "N    3.573850\n",
       "Y    4.168942\n",
       "Name: Cars Sold, dtype: float64"
      ]
     },
     "execution_count": 33,
     "metadata": {},
     "output_type": "execute_result"
    }
   ],
   "source": [
    "## Group by Sales Training; Summarize for Cars Sold\n",
    "\n",
    "df[\"Cars Sold\"].groupby(df[\"SalesTraining\"]).mean()"
   ]
  },
  {
   "cell_type": "code",
   "execution_count": 34,
   "id": "307378f1",
   "metadata": {},
   "outputs": [
    {
     "data": {
      "text/plain": [
       "Gender\n",
       "F    3.760736\n",
       "M    4.078431\n",
       "Name: Cars Sold, dtype: float64"
      ]
     },
     "execution_count": 34,
     "metadata": {},
     "output_type": "execute_result"
    }
   ],
   "source": [
    "## Group by Gender; Summarize for Cars Sold\n",
    "\n",
    "df[\"Cars Sold\"].groupby(df[\"Gender\"]).mean()"
   ]
  },
  {
   "cell_type": "code",
   "execution_count": 35,
   "id": "812a397a",
   "metadata": {},
   "outputs": [
    {
     "data": {
      "text/plain": [
       "Position\n",
       "Junior Salesperson    34.066826\n",
       "Senior Salesperson    33.692695\n",
       "Trainee               33.027322\n",
       "Name: Hours Worked, dtype: float64"
      ]
     },
     "execution_count": 35,
     "metadata": {},
     "output_type": "execute_result"
    }
   ],
   "source": [
    "## Group by Position; Summarize for Hours Worked\n",
    "\n",
    "df[\"Hours Worked\"].groupby(df[\"Position\"]).mean()"
   ]
  },
  {
   "cell_type": "code",
   "execution_count": 36,
   "id": "4c25fb9e",
   "metadata": {},
   "outputs": [
    {
     "data": {
      "text/html": [
       "<div>\n",
       "<style scoped>\n",
       "    .dataframe tbody tr th:only-of-type {\n",
       "        vertical-align: middle;\n",
       "    }\n",
       "\n",
       "    .dataframe tbody tr th {\n",
       "        vertical-align: top;\n",
       "    }\n",
       "\n",
       "    .dataframe thead th {\n",
       "        text-align: right;\n",
       "    }\n",
       "</style>\n",
       "<table border=\"1\" class=\"dataframe\">\n",
       "  <thead>\n",
       "    <tr style=\"text-align: right;\">\n",
       "      <th></th>\n",
       "      <th>Hours Worked</th>\n",
       "      <th>Years Experience</th>\n",
       "      <th>Cars Sold</th>\n",
       "    </tr>\n",
       "    <tr>\n",
       "      <th>SalesTraining</th>\n",
       "      <th></th>\n",
       "      <th></th>\n",
       "      <th></th>\n",
       "    </tr>\n",
       "  </thead>\n",
       "  <tbody>\n",
       "    <tr>\n",
       "      <th>N</th>\n",
       "      <td>33.474576</td>\n",
       "      <td>3.055690</td>\n",
       "      <td>3.573850</td>\n",
       "    </tr>\n",
       "    <tr>\n",
       "      <th>Y</th>\n",
       "      <td>33.906143</td>\n",
       "      <td>3.005119</td>\n",
       "      <td>4.168942</td>\n",
       "    </tr>\n",
       "  </tbody>\n",
       "</table>\n",
       "</div>"
      ],
      "text/plain": [
       "               Hours Worked  Years Experience  Cars Sold\n",
       "SalesTraining                                           \n",
       "N                 33.474576          3.055690   3.573850\n",
       "Y                 33.906143          3.005119   4.168942"
      ]
     },
     "execution_count": 36,
     "metadata": {},
     "output_type": "execute_result"
    }
   ],
   "source": [
    "## Grouping the entire dataset by a specific variable\n",
    "\n",
    "df.groupby(df['SalesTraining']).mean()"
   ]
  },
  {
   "cell_type": "markdown",
   "id": "1703ef3b",
   "metadata": {},
   "source": [
    "## { EXERCISE 4 }\n",
    "\n",
    "1. Using the \"pk\" dataset, group your ATTACK variable by STAGE. Summarize this data by showing the mean attack across each stage.\n",
    "2. Using the \"pk\" dataset, group your SPEED variable by TYPE 1. Summarize this data by showing the mean speed across each pokemon type. \n",
    "3. Using the \"pk\" dataset, group your DEFENSE variable by STAGE. Summarize this data by showing the mean defense across each stage. "
   ]
  },
  {
   "cell_type": "code",
   "execution_count": null,
   "id": "e6866e49",
   "metadata": {},
   "outputs": [],
   "source": []
  },
  {
   "cell_type": "code",
   "execution_count": null,
   "id": "f7aba6dc",
   "metadata": {},
   "outputs": [],
   "source": []
  },
  {
   "cell_type": "code",
   "execution_count": null,
   "id": "8cafd441",
   "metadata": {},
   "outputs": [],
   "source": []
  },
  {
   "cell_type": "markdown",
   "id": "4f5502f2",
   "metadata": {},
   "source": [
    "# { Module 8 Homework }"
   ]
  },
  {
   "cell_type": "markdown",
   "id": "082e993f",
   "metadata": {},
   "source": [
    "1. Import the \"Dental Patients.xlsx\" file and nickname the dataset \"df\". Preview the first 10 rows. You need to complete this step to have access to the correct dataset!"
   ]
  },
  {
   "cell_type": "code",
   "execution_count": null,
   "id": "4bbd43e8",
   "metadata": {},
   "outputs": [],
   "source": [
    "import pandas as pd\n",
    "\n",
    "df = pd.read_excel(\"Dental Patients.xlsx\")\n",
    "\n",
    "df.head(10)"
   ]
  },
  {
   "cell_type": "markdown",
   "id": "abd99060",
   "metadata": {},
   "source": [
    "2. Write the code to preview the last 5 rows of the df dataset."
   ]
  },
  {
   "cell_type": "code",
   "execution_count": null,
   "id": "d665a95d",
   "metadata": {},
   "outputs": [],
   "source": [
    "df.tail(5)"
   ]
  },
  {
   "cell_type": "markdown",
   "id": "f796f04e",
   "metadata": {},
   "source": [
    "3. Write the code to print the summary information for the df dataset. How many rows are there? How many columns?"
   ]
  },
  {
   "cell_type": "code",
   "execution_count": null,
   "id": "0480a72c",
   "metadata": {},
   "outputs": [],
   "source": [
    "df.info()"
   ]
  },
  {
   "cell_type": "markdown",
   "id": "d2c947e8",
   "metadata": {},
   "source": [
    "4. Looking closer at the df dataset, what is the maximum age for this group of patients? What is the minimum age?"
   ]
  },
  {
   "cell_type": "code",
   "execution_count": null,
   "id": "2792d193",
   "metadata": {},
   "outputs": [],
   "source": [
    "df[\"Age\"].max()"
   ]
  },
  {
   "cell_type": "code",
   "execution_count": null,
   "id": "18cafa87",
   "metadata": {},
   "outputs": [],
   "source": [
    "df[\"Age\"].min()"
   ]
  },
  {
   "cell_type": "markdown",
   "id": "683da394",
   "metadata": {},
   "source": [
    "5. How much money is owned in total to the dental practice? Hint: find the sum of the \"OutstandingBalance\" column."
   ]
  },
  {
   "cell_type": "code",
   "execution_count": null,
   "id": "46c2cbc6",
   "metadata": {},
   "outputs": [],
   "source": [
    "df[\"OutstandingBalance\"].sum()"
   ]
  },
  {
   "cell_type": "markdown",
   "id": "dcd2e277",
   "metadata": {},
   "source": [
    "6. Write the code below to determine how many new patients there are."
   ]
  },
  {
   "cell_type": "code",
   "execution_count": null,
   "id": "11bcab9c",
   "metadata": {},
   "outputs": [],
   "source": [
    "df[\"NewPatient\"].value_counts()"
   ]
  },
  {
   "cell_type": "markdown",
   "id": "fd545149",
   "metadata": {},
   "source": [
    "7. Write the code below to determine how many patients have any allergies."
   ]
  },
  {
   "cell_type": "code",
   "execution_count": null,
   "id": "431d4606",
   "metadata": {},
   "outputs": [],
   "source": [
    "df[\"Allergies\"].value_counts()"
   ]
  },
  {
   "cell_type": "markdown",
   "id": "5034df03",
   "metadata": {},
   "source": [
    "8. Let's select some data based on conditions. Find the data in the df dataset where \"Gender\" equals \"F\"."
   ]
  },
  {
   "cell_type": "code",
   "execution_count": null,
   "id": "9615996b",
   "metadata": {},
   "outputs": [],
   "source": [
    "df.loc[df[\"Gender\"] == \"F\"]"
   ]
  },
  {
   "cell_type": "code",
   "execution_count": null,
   "id": "636806a1",
   "metadata": {},
   "outputs": [],
   "source": [
    "len(df.loc[df[\"Gender\"] == \"F\"])"
   ]
  },
  {
   "cell_type": "markdown",
   "id": "3201b714",
   "metadata": {},
   "source": [
    "9. Find the data in the df dataset where \"OutstandingBalance\" equals 0. These are the people who have paid all of their bills!"
   ]
  },
  {
   "cell_type": "code",
   "execution_count": null,
   "id": "6110c80c",
   "metadata": {},
   "outputs": [],
   "source": [
    "df.loc[df[\"OutstandingBalance\"] == 0]"
   ]
  },
  {
   "cell_type": "code",
   "execution_count": null,
   "id": "74f0521e",
   "metadata": {},
   "outputs": [],
   "source": [
    "len(df.loc[df[\"OutstandingBalance\"] == 0])"
   ]
  },
  {
   "cell_type": "markdown",
   "id": "0e037f20",
   "metadata": {},
   "source": [
    "10. Complete the code below to find the data in the df dataset where \"NewPatient\" equals \"Y\" and \"Allergies\" also equals \"Y\"."
   ]
  },
  {
   "cell_type": "code",
   "execution_count": null,
   "id": "cd8e9822",
   "metadata": {},
   "outputs": [],
   "source": [
    ".loc[(df[\"NewPatient\"] == \"Y\") & (df[\"Allergies\"] == \"Y\")]"
   ]
  },
  {
   "cell_type": "markdown",
   "id": "9b360467",
   "metadata": {},
   "source": [
    "11. Using the groupby function, group the df dataset by the \"Insurance\" variable and summarize for the \"OutstandingBalance\" variable. Use the mean."
   ]
  },
  {
   "cell_type": "code",
   "execution_count": null,
   "id": "8c0480b4",
   "metadata": {},
   "outputs": [],
   "source": []
  },
  {
   "cell_type": "markdown",
   "id": "02654aaa",
   "metadata": {},
   "source": [
    "12. Using the groupby function, group the df dataset by the \"Gender\" variable and summarize for the \"Age\" variable. Use the mean."
   ]
  },
  {
   "cell_type": "code",
   "execution_count": null,
   "id": "75fb386d",
   "metadata": {},
   "outputs": [],
   "source": []
  }
 ],
 "metadata": {
  "kernelspec": {
   "display_name": "Python 3",
   "language": "python",
   "name": "python3"
  },
  "language_info": {
   "codemirror_mode": {
    "name": "ipython",
    "version": 3
   },
   "file_extension": ".py",
   "mimetype": "text/x-python",
   "name": "python",
   "nbconvert_exporter": "python",
   "pygments_lexer": "ipython3",
   "version": "3.8.8"
  }
 },
 "nbformat": 4,
 "nbformat_minor": 5
}
